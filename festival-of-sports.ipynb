{
  "nbformat": 4,
  "nbformat_minor": 0,
  "metadata": {
    "colab": {
      "name": "Festival of Sports",
      "provenance": []
    },
    "kernelspec": {
      "name": "python3",
      "display_name": "Python 3"
    }
  },
  "cells": [
    {
      "cell_type": "code",
      "metadata": {
        "id": "ZFJiTegbN7gn",
        "colab_type": "code",
        "outputId": "e81ba382-53bb-4713-b3d3-767700b6484a",
        "colab": {
          "base_uri": "https://localhost:8080/",
          "height": 35
        }
      },
      "source": [
        "\"\"\"\n",
        "Created on 15 Aug 2019 (Thur)\n",
        "Last Updated: 21 Aug 2019 (Wed)\n",
        "\n",
        "@author: Joven Soh\n",
        "\n",
        "\"\"\"\n",
        "\n",
        "filename = str(input(\"What is the name of the file? (.csv) \"))"
      ],
      "execution_count": 0,
      "outputs": [
        {
          "output_type": "stream",
          "text": [
            "What is the name of the file? (.csv) fosyeet  - Form Responses 1.csv\n"
          ],
          "name": "stdout"
        }
      ]
    },
    {
      "cell_type": "markdown",
      "metadata": {
        "id": "8BhX1bMFSWnY",
        "colab_type": "text"
      },
      "source": [
        "**Instructions**\n",
        "\n",
        "---\n",
        "\n"
      ]
    },
    {
      "cell_type": "code",
      "metadata": {
        "id": "CBgu-A9QODcz",
        "colab_type": "code",
        "outputId": "fb44c575-1e61-4ada-b037-99bf9c8fb0fd",
        "colab": {
          "base_uri": "https://localhost:8080/",
          "height": 229
        }
      },
      "source": [
        "import numpy as np\n",
        "import pandas as pd\n",
        "\n",
        "\n",
        "data = pd.read_csv(filename) #read the file\n",
        "cols = [\"Email Address\",\n",
        "        \"If you're intending to play Badminton or Table Tennis do state your partner's name\"]\n",
        "data = data.drop(cols,axis=1) #Drop columns that are not needed\n",
        "\n",
        "limit = {\"Table Tennis (Boys Doubles)\":10,\n",
        "         \"Table Tennis (Girls Doubles)\":10,\n",
        "         \"Floorball (Boys)\":10,\n",
        "         \"Floorball (Girls)\":10,\n",
        "         \"Basketball (Boys)\":12,\n",
        "         \"Basketball (Girls)\":12,\n",
        "         \"Field Soccer (Boys)\":12,\n",
        "         \"Street Soccer (Girls)\":8,\n",
        "         \"Badminton (Boys Doubles)\":10,\n",
        "         \"Badminton (Girls Doubles)\":10,\n",
        "         \"Ultimate Frisbee (Mixed)\":10,\n",
        "         \"Volleyball (Boys)\":14,\n",
        "         \"Volleyball (Girls)\":14,\n",
        "         \"Netball (Girls)\":12} #Using a dictionary, set the limits for each sport\n",
        "\n",
        "boys_ulti = 0 #special gender limit for frisbee\n",
        "girls_ulti = 0\n",
        "\n",
        "choice = {\"Table Tennis (Boys Doubles)\":[],\n",
        "          \"Table Tennis (Girls Doubles)\":[],\n",
        "          \"Floorball (Boys)\":[],\n",
        "          \"Floorball (Girls)\":[],\n",
        "          \"Basketball (Boys)\":[],\n",
        "          \"Basketball (Girls)\":[],\n",
        "          \"Field Soccer (Boys)\":[],\n",
        "          \"Street Soccer (Girls)\":[],\n",
        "          \"Badminton (Boys Doubles)\":[],\n",
        "          \"Badminton (Girls Doubles)\":[],\n",
        "          \"Ultimate Frisbee (Mixed)\":[],\n",
        "          \"Volleyball (Boys)\":[],\n",
        "          \"Volleyball (Girls)\":[],\n",
        "          \"Netball (Girls)\":[],\n",
        "          \"Unassigned\":[]} #Using a dictionary, store the name of those allocated to this sport\n",
        "\n",
        "for index, row in data.iterrows():\n",
        "  \n",
        "    name = str(row['Name']) #Retrive the name of the student\n",
        "    CT = str(row['Class & Index Number ( e.g. 19S7J(99) )']) #Retrieve their class\n",
        "    name = name + \" \" + CT #Merge them together\n",
        "    sport = row['Which sport is your first choice?'] #Look at their first choice of sport\n",
        "    \n",
        "    if sport == \"Ultimate Frisbee (Mixed)\": #Is the sport the special case?\n",
        "        if row[\"Gender\"] == \"Female\" and girls_ulti < 5:\n",
        "            choice[sport].append(name)\n",
        "            data = data.drop(index,axis = 0)\n",
        "            girls_ulti += 1\n",
        "            continue\n",
        "        elif row[\"Gender\"] == \"Male\" and boys_ulti < 5:\n",
        "            choice[sport].append(name)\n",
        "            data = data.drop(index,axis = 0)\n",
        "            boys_ulti += 1\n",
        "            continue\n",
        "    \n",
        "    #As long as the players in the sport is below the limit, they are allocated the sport\n",
        "    elif len(choice[sport]) < limit[sport]:\n",
        "        choice[sport].append(name)\n",
        "        data = data.drop(index,axis = 0)\n",
        "        continue\n",
        "        \n",
        "    sport = row['Which sport is your second choice?']\n",
        "        \n",
        "    if sport == \"Ultimate Frisbee (Mixed)\":\n",
        "        if row[\"Gender\"] == \"Female\" and girls_ulti < 5:\n",
        "            choice[sport].append(name)\n",
        "            data = data.drop(index,axis = 0)\n",
        "            girls_ulti += 1\n",
        "            continue\n",
        "        elif row[\"Gender\"] == \"Male\" and boys_ulti < 5:\n",
        "            choice[sport].append(name)\n",
        "            data = data.drop(index,axis = 0)\n",
        "            boys_ulti += 1\n",
        "            continue\n",
        "    \n",
        "    elif len(choice[sport]) < limit[sport]:\n",
        "        choice[sport].append(name)\n",
        "        data = data.drop(index,axis = 0)\n",
        "        continue\n",
        "        \n",
        "    sport = row['Which sport is your third choice?']\n",
        "    \n",
        "    if sport == \"Ultimate Frisbee (Mixed)\":\n",
        "        if row[\"Gender\"] == \"Female\" and girls_ulti < 5:\n",
        "            choice[sport].append(name)\n",
        "            data = data.drop(index,axis = 0)\n",
        "            girls_ulti += 1\n",
        "            continue\n",
        "        elif row[\"Gender\"] == \"Male\" and boys_ulti < 5:\n",
        "            choice[sport].append(name)\n",
        "            data = data.drop(index,axis = 0)\n",
        "            boys_ulti += 1\n",
        "            continue\n",
        "    \n",
        "    elif len(choice[sport]) < limit[sport]:\n",
        "        choice[sport].append(name)\n",
        "        data = data.drop(index,axis = 0)\n",
        "        continue\n",
        "        \n",
        "    #If they are not allocated a sport after their 3 choices, they are unassigned\n",
        "    choice[\"Unassigned\"].append(name)\n",
        "    data = data.drop(index,axis = 0)\n",
        "    \n",
        "    \n",
        "    \n",
        "with open(\"Allocations.txt\", \"w\") as f: #writing the final allocations down in a text file\n",
        "    for key in choice:\n",
        "        f.write(key) #write the sport\n",
        "        f.write(\"\\n\")\n",
        "        f.write(str(choice[key])) #write the players allocated this sport\n",
        "        f.write(\"\\n\\n\")"
      ],
      "execution_count": 0,
      "outputs": [
        {
          "output_type": "error",
          "ename": "NameError",
          "evalue": "ignored",
          "traceback": [
            "\u001b[0;31m---------------------------------------------------------------------------\u001b[0m",
            "\u001b[0;31mNameError\u001b[0m                                 Traceback (most recent call last)",
            "\u001b[0;32m<ipython-input-1-e9cabebcea98>\u001b[0m in \u001b[0;36m<module>\u001b[0;34m()\u001b[0m\n\u001b[1;32m      3\u001b[0m \u001b[0;34m\u001b[0m\u001b[0m\n\u001b[1;32m      4\u001b[0m \u001b[0;34m\u001b[0m\u001b[0m\n\u001b[0;32m----> 5\u001b[0;31m \u001b[0mdata\u001b[0m \u001b[0;34m=\u001b[0m \u001b[0mpd\u001b[0m\u001b[0;34m.\u001b[0m\u001b[0mread_csv\u001b[0m\u001b[0;34m(\u001b[0m\u001b[0mfilename\u001b[0m\u001b[0;34m)\u001b[0m \u001b[0;31m#read the file\u001b[0m\u001b[0;34m\u001b[0m\u001b[0;34m\u001b[0m\u001b[0m\n\u001b[0m\u001b[1;32m      6\u001b[0m cols = [\"Email Address\",\n\u001b[1;32m      7\u001b[0m         \"If you're intending to play Badminton or Table Tennis do state your partner's name\"]\n",
            "\u001b[0;31mNameError\u001b[0m: name 'filename' is not defined"
          ]
        }
      ]
    },
    {
      "cell_type": "code",
      "metadata": {
        "id": "Ht1AK6IY3Hu2",
        "colab_type": "code",
        "colab": {}
      },
      "source": [
        ""
      ],
      "execution_count": 0,
      "outputs": []
    }
  ]
}